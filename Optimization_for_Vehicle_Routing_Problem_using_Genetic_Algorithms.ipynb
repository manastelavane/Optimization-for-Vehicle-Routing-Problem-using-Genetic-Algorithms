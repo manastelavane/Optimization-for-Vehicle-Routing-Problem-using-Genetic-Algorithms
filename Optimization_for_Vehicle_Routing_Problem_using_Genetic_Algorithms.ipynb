{
  "nbformat": 4,
  "nbformat_minor": 0,
  "metadata": {
    "colab": {
      "provenance": [],
      "authorship_tag": "ABX9TyPSeAQv9fzoiwz3y90tg36W",
      "include_colab_link": true
    },
    "kernelspec": {
      "name": "python3",
      "display_name": "Python 3"
    },
    "language_info": {
      "name": "python"
    }
  },
  "cells": [
    {
      "cell_type": "markdown",
      "metadata": {
        "id": "view-in-github",
        "colab_type": "text"
      },
      "source": [
        "<a href=\"https://colab.research.google.com/github/manastelavane/Optimization-for-Vehicle-Routing-Problem-using-Genetic-Algorithms/blob/main/Optimization_for_Vehicle_Routing_Problem_using_Genetic_Algorithms.ipynb\" target=\"_parent\"><img src=\"https://colab.research.google.com/assets/colab-badge.svg\" alt=\"Open In Colab\"/></a>"
      ]
    },
    {
      "cell_type": "markdown",
      "source": [
        "# **Optimization for Vehicle Routing Problem using Genetic Algorithms**"
      ],
      "metadata": {
        "id": "5o5ELO9ChV3M"
      }
    },
    {
      "cell_type": "markdown",
      "source": [
        "### **Installing required Libraries**"
      ],
      "metadata": {
        "id": "y7or7D2ghmkE"
      }
    },
    {
      "cell_type": "code",
      "execution_count": 98,
      "metadata": {
        "colab": {
          "base_uri": "https://localhost:8080/"
        },
        "id": "igTLVTu2gt2U",
        "outputId": "39e371dd-3cd2-4b2f-b80c-bac56843a953"
      },
      "outputs": [
        {
          "output_type": "stream",
          "name": "stdout",
          "text": [
            "Requirement already satisfied: matplotlib in /usr/local/lib/python3.10/dist-packages (3.7.1)\n",
            "Requirement already satisfied: deap in /usr/local/lib/python3.10/dist-packages (1.4.1)\n",
            "Requirement already satisfied: contourpy>=1.0.1 in /usr/local/lib/python3.10/dist-packages (from matplotlib) (1.2.1)\n",
            "Requirement already satisfied: cycler>=0.10 in /usr/local/lib/python3.10/dist-packages (from matplotlib) (0.12.1)\n",
            "Requirement already satisfied: fonttools>=4.22.0 in /usr/local/lib/python3.10/dist-packages (from matplotlib) (4.51.0)\n",
            "Requirement already satisfied: kiwisolver>=1.0.1 in /usr/local/lib/python3.10/dist-packages (from matplotlib) (1.4.5)\n",
            "Requirement already satisfied: numpy>=1.20 in /usr/local/lib/python3.10/dist-packages (from matplotlib) (1.25.2)\n",
            "Requirement already satisfied: packaging>=20.0 in /usr/local/lib/python3.10/dist-packages (from matplotlib) (24.0)\n",
            "Requirement already satisfied: pillow>=6.2.0 in /usr/local/lib/python3.10/dist-packages (from matplotlib) (9.4.0)\n",
            "Requirement already satisfied: pyparsing>=2.3.1 in /usr/local/lib/python3.10/dist-packages (from matplotlib) (3.1.2)\n",
            "Requirement already satisfied: python-dateutil>=2.7 in /usr/local/lib/python3.10/dist-packages (from matplotlib) (2.8.2)\n",
            "Requirement already satisfied: six>=1.5 in /usr/local/lib/python3.10/dist-packages (from python-dateutil>=2.7->matplotlib) (1.16.0)\n"
          ]
        }
      ],
      "source": [
        "!pip install matplotlib deap"
      ]
    },
    {
      "cell_type": "markdown",
      "source": [
        "### **Importing Libraries**"
      ],
      "metadata": {
        "id": "rZ_1Smwbhyj7"
      }
    },
    {
      "cell_type": "code",
      "source": [
        "# Required Libraries\n",
        "import random\n",
        "import numpy as np\n",
        "import matplotlib.pyplot as plt\n",
        "from deap import base, creator, tools, algorithms\n",
        "from matplotlib.animation import FuncAnimation"
      ],
      "metadata": {
        "id": "yNubTTOAh1m9"
      },
      "execution_count": 99,
      "outputs": []
    },
    {
      "cell_type": "markdown",
      "source": [
        "### **Define the number of locations and vehicles**"
      ],
      "metadata": {
        "id": "0ZtqcS0Fh38p"
      }
    },
    {
      "cell_type": "code",
      "source": [
        "num_locations = 30  # Define how many locations (excluding the depot) the vehicles need to visit\n",
        "locations = [(random.randint(0, 100), random.randint(0, 100)) for _ in range(num_locations)]  # Generate random (x, y) coordinates for each location\n",
        "depot = (50, 50)  # Define the central depot location as a fixed point\n",
        "num_vehicles = 3  # Define how many vehicles are available to visit the locations"
      ],
      "metadata": {
        "id": "Fo2HxYBsh73u"
      },
      "execution_count": 100,
      "outputs": []
    },
    {
      "cell_type": "markdown",
      "source": [
        "### **Genetic Algorithm Setup**"
      ],
      "metadata": {
        "id": "4PlhSuvniIP1"
      }
    },
    {
      "cell_type": "code",
      "source": [
        "creator.create(\"FitnessMin\", base.Fitness, weights=(-1.0, -1.0))  # Define fitness function to minimize. The two objectives are total distance and balance penalty.\n",
        "creator.create(\"Individual\", list, fitness=creator.FitnessMin)  # Define individual structure. Individuals are lists with a fitness attribute."
      ],
      "metadata": {
        "id": "3A5Vh3gbidUM"
      },
      "execution_count": 101,
      "outputs": []
    },
    {
      "cell_type": "code",
      "source": [
        "toolbox = base.Toolbox()\n",
        "toolbox.register(\"indices\", random.sample, range(num_locations), num_locations)  # Function to generate a list of unique, randomly ordered location indices\n",
        "toolbox.register(\"individual\", tools.initIterate, creator.Individual, toolbox.indices)  # Function to create an individual as a shuffled list of location indices\n",
        "toolbox.register(\"population\", tools.initRepeat, list, toolbox.individual)  # Function to create a population of individuals\n"
      ],
      "metadata": {
        "id": "eXAmo4KFinS4"
      },
      "execution_count": 102,
      "outputs": []
    },
    {
      "cell_type": "markdown",
      "source": [
        "### **Fitness Function**"
      ],
      "metadata": {
        "id": "Ki9ZYKIZjHR0"
      }
    },
    {
      "cell_type": "code",
      "source": [
        "# Fitness Function\n",
        "def evalVRP(individual):\n",
        "    total_distance = 0\n",
        "    distances = []  # Track distance traveled by each vehicle for balance calculation\n",
        "    # Split the list of locations among vehicles, ensuring each starts and ends at the depot\n",
        "    for i in range(num_vehicles):\n",
        "        vehicle_route = [depot] + [locations[individual[j]] for j in range(i, len(individual), num_vehicles)] + [depot]\n",
        "        # Calculate total distance traveled by this vehicle\n",
        "        vehicle_distance = sum(np.linalg.norm(np.array(vehicle_route[k+1]) - np.array(vehicle_route[k])) for k in range(len(vehicle_route)-1))\n",
        "        total_distance += vehicle_distance\n",
        "        distances.append(vehicle_distance)\n",
        "    balance_penalty = np.std(distances)  # Use standard deviation of distances as a penalty for imbalance among vehicles\n",
        "    return total_distance, balance_penalty"
      ],
      "metadata": {
        "id": "LTvFD8M3inv6"
      },
      "execution_count": 103,
      "outputs": []
    },
    {
      "cell_type": "code",
      "source": [
        "toolbox.register(\"evaluate\", evalVRP)  # Register the evaluation function\n",
        "toolbox.register(\"mate\", tools.cxPartialyMatched)  # Register the crossover function suitable for permutation-based representation\n",
        "toolbox.register(\"mutate\", tools.mutShuffleIndexes, indpb=0.05)  # Register the mutation function to shuffle indices with a 5% chance per index\n",
        "toolbox.register(\"select\", tools.selTournament, tournsize=3)  # Register the selection function using tournament selection\n"
      ],
      "metadata": {
        "id": "B6of_2ViiqO2"
      },
      "execution_count": 104,
      "outputs": []
    },
    {
      "cell_type": "markdown",
      "source": [
        "### **Plotting Function**"
      ],
      "metadata": {
        "id": "tUKT9uUrjMYY"
      }
    },
    {
      "cell_type": "code",
      "source": [
        "# Plotting Function\n",
        "def plot_routes(individual, title=\"Routes\"):\n",
        "    plt.figure()\n",
        "    # Plot locations as blue dots and the depot as a red square\n",
        "    for (x, y) in locations:\n",
        "        plt.plot(x, y, 'bo')\n",
        "    plt.plot(depot[0], depot[1], 'rs')\n",
        "\n",
        "    # Draw routes for each vehicle\n",
        "    for i in range(num_vehicles):\n",
        "        vehicle_route = [depot] + [locations[individual[j]] for j in range(i, len(individual), num_vehicles)] + [depot]\n",
        "        plt.plot(*zip(*vehicle_route), '-')\n",
        "\n",
        "    plt.title(title)\n",
        "    plt.xlabel('X Coordinate')\n",
        "    plt.ylabel('Y Coordinate')\n",
        "    plt.show()"
      ],
      "metadata": {
        "id": "4nmLO7nwiuer"
      },
      "execution_count": 105,
      "outputs": []
    },
    {
      "cell_type": "markdown",
      "source": [
        "### **Running the Genetic Algorithm**"
      ],
      "metadata": {
        "id": "dGY4VcJIjSdc"
      }
    },
    {
      "cell_type": "code",
      "source": [
        "# Running the Genetic Algorithm\n",
        "def main():\n",
        "    random.seed(42)  # Seed for reproducibility\n",
        "    pop = toolbox.population(n=300)  # Generate initial population\n",
        "    hof = tools.HallOfFame(1)  # Hall of Fame to store the best individual\n",
        "\n",
        "    # Setup statistics to track\n",
        "    stats = tools.Statistics(lambda ind: ind.fitness.values)\n",
        "    stats.register(\"avg\", np.mean)\n",
        "    stats.register(\"min\", np.min)\n",
        "\n",
        "    # Run the genetic algorithm\n",
        "    algorithms.eaSimple(pop, toolbox, 0.7, 0.2, 300, stats=stats, halloffame=hof)\n",
        "\n",
        "    # Plot the best route found\n",
        "    plot_routes(hof[0], \"Optimal Route\")\n",
        "\n",
        "\n",
        "    return pop, stats, hof"
      ],
      "metadata": {
        "id": "xNqsPGX0izJB"
      },
      "execution_count": 106,
      "outputs": []
    },
    {
      "cell_type": "markdown",
      "source": [
        "### **Main function**"
      ],
      "metadata": {
        "id": "VHkamWTXjVKB"
      }
    },
    {
      "cell_type": "code",
      "source": [
        "if __name__ == \"__main__\":\n",
        "    main()"
      ],
      "metadata": {
        "colab": {
          "base_uri": "https://localhost:8080/",
          "height": 1000
        },
        "id": "pd0tI6gSi3YG",
        "outputId": "aa5d9ade-91e3-47f4-aa29-70be2dd22bbe"
      },
      "execution_count": 107,
      "outputs": [
        {
          "output_type": "stream",
          "name": "stdout",
          "text": [
            "gen\tnevals\tavg    \tmin    \n",
            "0  \t300   \t869.494\t5.25715\n",
            "1  \t232   \t838.033\t7.39786\n",
            "2  \t227   \t827.112\t2.82158\n",
            "3  \t245   \t825.334\t3.85874\n",
            "4  \t222   \t812.713\t3.85874\n",
            "5  \t234   \t813.059\t4.50436\n",
            "6  \t212   \t796.614\t1.56777\n",
            "7  \t244   \t796.992\t4.10684\n",
            "8  \t230   \t789.621\t2.56468\n",
            "9  \t224   \t780.206\t4.50436\n",
            "10 \t209   \t780.635\t1.56094\n",
            "11 \t227   \t778.373\t6.19521\n",
            "12 \t221   \t777.416\t4.36537\n",
            "13 \t230   \t771.953\t5.68157\n",
            "14 \t226   \t760.308\t3.38171\n",
            "15 \t221   \t748.07 \t2.29605\n",
            "16 \t231   \t734.831\t2.25708\n",
            "17 \t218   \t718.04 \t1.87199\n",
            "18 \t242   \t709.166\t3.98617\n",
            "19 \t218   \t678.154\t4.45913\n",
            "20 \t249   \t666.375\t2.52379\n",
            "21 \t217   \t649.229\t2.69383\n",
            "22 \t209   \t624.012\t1.97499\n",
            "23 \t217   \t608.598\t3.8317 \n",
            "24 \t221   \t597.886\t2.001  \n",
            "25 \t225   \t586.959\t2.001  \n",
            "26 \t239   \t580.654\t2.001  \n",
            "27 \t237   \t576.104\t4.3981 \n",
            "28 \t234   \t571.111\t4.28495\n",
            "29 \t228   \t560.458\t2.27319\n",
            "30 \t225   \t557.907\t4.54252\n",
            "31 \t235   \t551.304\t1.20907\n",
            "32 \t232   \t542.052\t1.69218\n",
            "33 \t221   \t531.628\t1.69218\n",
            "34 \t227   \t524.162\t1.69218\n",
            "35 \t224   \t517.747\t1.0762 \n",
            "36 \t236   \t508.007\t1.0762 \n",
            "37 \t215   \t500.492\t1.0762 \n",
            "38 \t209   \t496.895\t1.37704\n",
            "39 \t227   \t490.011\t0.68792\n",
            "40 \t234   \t493.771\t1.32827\n",
            "41 \t230   \t492.328\t1.37704\n",
            "42 \t201   \t480.084\t1.37704\n",
            "43 \t233   \t474.884\t1.37704\n",
            "44 \t236   \t467.926\t1.37704\n",
            "45 \t238   \t464.37 \t1.37704\n",
            "46 \t219   \t457.211\t1.37704\n",
            "47 \t229   \t442.922\t1.61578\n",
            "48 \t235   \t438.764\t0.806657\n",
            "49 \t242   \t434.533\t0.334201\n",
            "50 \t237   \t422.399\t0.334201\n",
            "51 \t233   \t404.766\t0.334201\n",
            "52 \t231   \t409.095\t0.334201\n",
            "53 \t217   \t398.282\t0.334201\n",
            "54 \t234   \t391.592\t0.401499\n",
            "55 \t219   \t382.469\t0.98457 \n",
            "56 \t235   \t377.384\t0.98457 \n",
            "57 \t225   \t380.013\t0.701   \n",
            "58 \t202   \t378.245\t5.56885 \n",
            "59 \t237   \t375.784\t6.59824 \n",
            "60 \t216   \t366.842\t6.59824 \n",
            "61 \t225   \t370.21 \t6.4207  \n",
            "62 \t207   \t371.719\t8.80213 \n",
            "63 \t241   \t369.731\t9.75416 \n",
            "64 \t239   \t379.266\t3.8411  \n",
            "65 \t228   \t377.682\t3.50972 \n",
            "66 \t218   \t369.921\t7.99218 \n",
            "67 \t218   \t365.397\t7.31972 \n",
            "68 \t216   \t365.254\t3.74024 \n",
            "69 \t221   \t367.233\t5.89066 \n",
            "70 \t242   \t362.07 \t3.36963 \n",
            "71 \t242   \t354.437\t4.40405 \n",
            "72 \t218   \t356.244\t1.89971 \n",
            "73 \t237   \t355.104\t8.43163 \n",
            "74 \t228   \t346.954\t9.76377 \n",
            "75 \t243   \t351.693\t4.65963 \n",
            "76 \t241   \t348.298\t10.6421 \n",
            "77 \t229   \t352.378\t9.9276  \n",
            "78 \t233   \t347.834\t9.72557 \n",
            "79 \t242   \t349.695\t2.5632  \n",
            "80 \t221   \t342.973\t8.62405 \n",
            "81 \t241   \t348.557\t10.6421 \n",
            "82 \t238   \t360.443\t11.2077 \n",
            "83 \t238   \t347.699\t2.12763 \n",
            "84 \t234   \t354.618\t2.47522 \n",
            "85 \t228   \t343.789\t9.21338 \n",
            "86 \t233   \t344.112\t5.70604 \n",
            "87 \t244   \t349.826\t11.1362 \n",
            "88 \t238   \t348.027\t12.7002 \n",
            "89 \t224   \t343.637\t11.85   \n",
            "90 \t225   \t343.559\t3.79238 \n",
            "91 \t208   \t342.006\t8.58466 \n",
            "92 \t231   \t343.642\t13.2025 \n",
            "93 \t225   \t343.137\t4.06991 \n",
            "94 \t222   \t346.048\t10.264  \n",
            "95 \t220   \t344.269\t2.30935 \n",
            "96 \t220   \t342.58 \t8.58466 \n",
            "97 \t219   \t346.591\t6.47023 \n",
            "98 \t212   \t341.566\t4.11839 \n",
            "99 \t230   \t341.224\t12.34   \n",
            "100\t231   \t340.364\t10.2463 \n",
            "101\t226   \t345.504\t1.50417 \n",
            "102\t238   \t344.85 \t13.993  \n",
            "103\t230   \t341.579\t15.5377 \n",
            "104\t218   \t342.502\t6.83453 \n",
            "105\t237   \t349.217\t11.3517 \n",
            "106\t228   \t344.075\t6.87353 \n",
            "107\t233   \t341.459\t9.63092 \n",
            "108\t247   \t345.334\t14.8656 \n",
            "109\t231   \t348.087\t15.0058 \n",
            "110\t232   \t344.599\t15.5377 \n",
            "111\t236   \t351.372\t14.0664 \n",
            "112\t218   \t349.191\t11.2405 \n",
            "113\t234   \t340.329\t12.5057 \n",
            "114\t224   \t341.818\t15.5377 \n",
            "115\t216   \t344.065\t5.53989 \n",
            "116\t225   \t337.957\t12.0431 \n",
            "117\t247   \t346.591\t5.17158 \n",
            "118\t229   \t343.232\t10.7731 \n",
            "119\t239   \t354.967\t1.87242 \n",
            "120\t227   \t340.767\t15.1954 \n",
            "121\t223   \t344.223\t12.6167 \n",
            "122\t238   \t346.483\t7.07546 \n",
            "123\t231   \t347.002\t5.18968 \n",
            "124\t224   \t343.735\t9.59928 \n",
            "125\t233   \t345.011\t9.53552 \n",
            "126\t253   \t341.54 \t10.2463 \n",
            "127\t231   \t348.105\t7.96241 \n",
            "128\t221   \t344.324\t11.3801 \n",
            "129\t229   \t347.214\t7.08218 \n",
            "130\t232   \t339.895\t9.25471 \n",
            "131\t223   \t343.377\t12.7062 \n",
            "132\t235   \t346.332\t2.79196 \n",
            "133\t218   \t342.416\t9.05048 \n",
            "134\t248   \t343.813\t11.3801 \n",
            "135\t222   \t344.665\t4.04989 \n",
            "136\t225   \t341.687\t10.8324 \n",
            "137\t221   \t343.736\t9.12318 \n",
            "138\t234   \t337.081\t11.5854 \n",
            "139\t245   \t352.193\t9.43133 \n",
            "140\t226   \t349.404\t6.5644  \n",
            "141\t223   \t346.111\t10.1816 \n",
            "142\t236   \t346.635\t5.52621 \n",
            "143\t239   \t344.24 \t15.5377 \n",
            "144\t243   \t348.734\t12.0428 \n",
            "145\t212   \t343.027\t5.17158 \n",
            "146\t202   \t342.731\t5.14491 \n",
            "147\t216   \t341.469\t15.5377 \n",
            "148\t225   \t342.494\t11.1962 \n",
            "149\t243   \t342.564\t10.2297 \n",
            "150\t229   \t345.924\t7.3904  \n",
            "151\t235   \t344.745\t6.01402 \n",
            "152\t228   \t342.679\t4.30959 \n",
            "153\t228   \t340.045\t4.20625 \n",
            "154\t229   \t343.125\t6.36794 \n",
            "155\t234   \t341.592\t5.34959 \n",
            "156\t220   \t344.957\t10.4577 \n",
            "157\t205   \t343.785\t9.00269 \n",
            "158\t234   \t342.551\t13.7684 \n",
            "159\t225   \t347.752\t8.6143  \n",
            "160\t234   \t347.083\t14.0664 \n",
            "161\t216   \t348.469\t10.2463 \n",
            "162\t240   \t346.702\t12.34   \n",
            "163\t216   \t345.967\t11.0336 \n",
            "164\t210   \t343.691\t9.2016  \n",
            "165\t233   \t341.505\t3.0002  \n",
            "166\t220   \t340.842\t7.3215  \n",
            "167\t224   \t346.176\t4.81379 \n",
            "168\t218   \t349.746\t7.89886 \n",
            "169\t236   \t340.346\t8.95608 \n",
            "170\t233   \t348.845\t2.76953 \n",
            "171\t238   \t344.625\t4.12053 \n",
            "172\t223   \t347.034\t11.7887 \n",
            "173\t217   \t341.593\t5.17158 \n",
            "174\t232   \t341.206\t9.47997 \n",
            "175\t213   \t342.963\t3.92592 \n",
            "176\t241   \t342.905\t6.14481 \n",
            "177\t236   \t341.635\t11.5854 \n",
            "178\t224   \t344.425\t1.22988 \n",
            "179\t232   \t344.31 \t6.36794 \n",
            "180\t236   \t338.196\t5.29298 \n",
            "181\t226   \t342.676\t9.30754 \n",
            "182\t238   \t349.735\t9.34293 \n",
            "183\t240   \t348.505\t6.36794 \n",
            "184\t227   \t350.583\t6.36794 \n",
            "185\t226   \t349.809\t6.36794 \n",
            "186\t211   \t341.467\t6.36794 \n",
            "187\t234   \t342.141\t6.36794 \n",
            "188\t222   \t343.57 \t13.2025 \n",
            "189\t245   \t346.619\t4.07535 \n",
            "190\t213   \t339.809\t5.17158 \n",
            "191\t231   \t345.803\t12.5057 \n",
            "192\t232   \t343.601\t7.51218 \n",
            "193\t226   \t342.731\t13.5853 \n",
            "194\t224   \t343.54 \t6.36794 \n",
            "195\t243   \t348.257\t5.17158 \n",
            "196\t208   \t342.973\t15.0857 \n",
            "197\t234   \t348.756\t4.5188  \n",
            "198\t232   \t347.99 \t11.8248 \n",
            "199\t219   \t345.495\t12.611  \n",
            "200\t228   \t344.328\t11.2405 \n",
            "201\t229   \t343.917\t2.1469  \n",
            "202\t228   \t349.754\t15.1954 \n",
            "203\t214   \t346.287\t4.11803 \n",
            "204\t228   \t343.377\t2.76953 \n",
            "205\t222   \t339.693\t12.1953 \n",
            "206\t228   \t346.483\t10.2463 \n",
            "207\t228   \t351.532\t15.5377 \n",
            "208\t237   \t348.684\t4.86426 \n",
            "209\t229   \t349.85 \t2.76953 \n",
            "210\t229   \t343.132\t5.95642 \n",
            "211\t213   \t337.192\t6.00739 \n",
            "212\t224   \t347.663\t10.36   \n",
            "213\t252   \t346.263\t10.2463 \n",
            "214\t241   \t343.705\t3.22371 \n",
            "215\t229   \t345.588\t11.9173 \n",
            "216\t250   \t347.023\t11.3517 \n",
            "217\t234   \t342.726\t15.5377 \n",
            "218\t229   \t348.168\t13.2546 \n",
            "219\t213   \t343.398\t9.24169 \n",
            "220\t224   \t345.613\t5.14056 \n",
            "221\t209   \t340.309\t12.4806 \n",
            "222\t236   \t346.878\t3.58984 \n",
            "223\t218   \t346.939\t7.35729 \n",
            "224\t237   \t344.344\t13.5651 \n",
            "225\t243   \t345.228\t5.17158 \n",
            "226\t231   \t345.091\t6.52449 \n",
            "227\t232   \t345.519\t3.41515 \n",
            "228\t226   \t345.603\t11.0228 \n",
            "229\t247   \t347.48 \t10.2297 \n",
            "230\t226   \t344.98 \t11.2405 \n",
            "231\t221   \t348.805\t4.17745 \n",
            "232\t234   \t343.712\t11.2405 \n",
            "233\t232   \t353.201\t2.89484 \n",
            "234\t222   \t348.29 \t2.43476 \n",
            "235\t219   \t339.658\t11.1962 \n",
            "236\t220   \t344.655\t12.5057 \n",
            "237\t224   \t345.037\t2.76953 \n",
            "238\t239   \t345.343\t6.36794 \n",
            "239\t236   \t343.424\t12.2604 \n",
            "240\t227   \t336.61 \t11.3066 \n",
            "241\t238   \t343.546\t10.2297 \n",
            "242\t237   \t339.453\t12.0428 \n",
            "243\t222   \t340.782\t4.5173  \n",
            "244\t215   \t345.865\t11.3517 \n",
            "245\t227   \t344.761\t1.91732 \n",
            "246\t228   \t351.747\t4.41144 \n",
            "247\t226   \t347.949\t11.5854 \n",
            "248\t230   \t348.871\t4.84968 \n",
            "249\t229   \t343.098\t2.61881 \n",
            "250\t216   \t338.296\t7.81339 \n",
            "251\t230   \t345.297\t6.21144 \n",
            "252\t223   \t343.064\t4.12781 \n",
            "253\t231   \t342.457\t10.2297 \n",
            "254\t245   \t352.491\t2.71934 \n",
            "255\t223   \t346.507\t10.2463 \n",
            "256\t235   \t344.824\t10.0306 \n",
            "257\t222   \t352.743\t3.19477 \n",
            "258\t234   \t350.286\t2.32524 \n",
            "259\t222   \t336.049\t11.8248 \n",
            "260\t232   \t340.249\t14.0183 \n",
            "261\t233   \t336.459\t5.17158 \n",
            "262\t239   \t356.622\t5.02519 \n",
            "263\t219   \t345.145\t11.1532 \n",
            "264\t213   \t345.912\t5.17158 \n",
            "265\t212   \t340.461\t11.7763 \n",
            "266\t233   \t344.322\t2.59783 \n",
            "267\t231   \t349.703\t7.88917 \n",
            "268\t234   \t346.263\t1.08789 \n",
            "269\t202   \t340.082\t4.24834 \n",
            "270\t234   \t343.147\t12.6197 \n",
            "271\t219   \t346.903\t15.5377 \n",
            "272\t221   \t341.866\t11.3801 \n",
            "273\t230   \t339.747\t10.2463 \n",
            "274\t240   \t340.72 \t9.72512 \n",
            "275\t207   \t346.06 \t12.087  \n",
            "276\t218   \t347.197\t5.17158 \n",
            "277\t226   \t335.734\t13.3597 \n",
            "278\t249   \t343.515\t11.8248 \n",
            "279\t235   \t347.144\t1.98897 \n",
            "280\t232   \t343.835\t11.0388 \n",
            "281\t230   \t346.287\t10.2953 \n",
            "282\t236   \t343.667\t6.60567 \n",
            "283\t238   \t339.849\t9.44131 \n",
            "284\t235   \t338.38 \t12.7062 \n",
            "285\t230   \t350.27 \t5.17158 \n",
            "286\t226   \t347.91 \t11.5854 \n",
            "287\t228   \t343.382\t4.81626 \n",
            "288\t241   \t345.867\t4.75849 \n",
            "289\t231   \t350.02 \t14.0183 \n",
            "290\t226   \t346.333\t5.46388 \n",
            "291\t250   \t349.879\t4.03282 \n",
            "292\t234   \t349.328\t12.6774 \n",
            "293\t229   \t346.767\t5.69504 \n",
            "294\t215   \t347.024\t5.17158 \n",
            "295\t227   \t339.795\t10.8165 \n",
            "296\t228   \t341.765\t6.22067 \n",
            "297\t236   \t353.967\t10.2297 \n",
            "298\t227   \t345.59 \t5.31936 \n",
            "299\t223   \t337.564\t4.98592 \n",
            "300\t207   \t340.648\t4.98592 \n"
          ]
        },
        {
          "output_type": "display_data",
          "data": {
            "text/plain": [
              "<Figure size 640x480 with 1 Axes>"
            ],
            "image/png": "[encoded data removed]"
          },
          "metadata": {}
        }
      ]
    }
  ]
}